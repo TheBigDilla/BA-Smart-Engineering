{
 "cells": [
  {
   "cell_type": "markdown",
   "id": "6ed2308c-284d-4987-bb14-6b1a0244c3db",
   "metadata": {},
   "source": [
    "# Taschenrechner"
   ]
  },
  {
   "cell_type": "code",
   "execution_count": 30,
   "id": "d3cdfd47",
   "metadata": {},
   "outputs": [],
   "source": [
    "def Taschenrechner():\n",
    "    \n",
    "    print(\"=====================================\",\"==          Taschenrechner         ==\",\"=====================================\",\"\",sep=\"\\n\")\n",
    "    \n",
    "    rechenoperation_aktuell = input (\"Welche Rechenoperationen der folgenden soll durchgeführt werden?\\n+, -, *, / \")\n",
    "    \n",
    "    rechenoperation_gesamt = [\"+\", \"-\", \"*\", \"/\"]\n",
    "\n",
    "    if rechenoperation_aktuell not in rechenoperation_gesamt:\n",
    "        return print(\"Sie haben keine gültige Rechenoperation eingegeben\")\n",
    "        \n",
    "    else:\n",
    "        \n",
    "        try:\n",
    "            index = rechenoperation_gesamt.index(rechenoperation_aktuell)\n",
    "        \n",
    "            zahl1 = float (input (\"Geben Sie die erste reele Zahl an: \"))\n",
    "            zahl2 = float (input (\"Geben Sie die zweite reele Zahl an: \"))\n",
    "\n",
    "            if index == 3 and float(zahl2) == 0:\n",
    "                return print(\"Division durch Null, Rechnung kann nicht durchgeführt werden\")\n",
    "\n",
    "            #Addition\n",
    "            elif index == 0:\n",
    "                summe = zahl1 + zahl2\n",
    "                return print(f\"Ergebnis der Addition: {round(zahl1, 2)} + {round(zahl2, 2)} = {round(summe, 2)}\")\n",
    "\n",
    "            #Subtraktion\n",
    "            elif index == 1:\n",
    "                differenz = zahl1 - zahl2\n",
    "                return print(f\"Ergebnis der Subtraktion: {round(zahl1, 2)} - {round(zahl2, 2)} = {round(differenz, 2)}\")\n",
    "\n",
    "            #Multiplikation\n",
    "            elif index == 2:\n",
    "                produkt = zahl1 * zahl2\n",
    "                return print(f\"Ergebnis der Multiplikation: {round(zahl1, 2)} * {round(zahl2, 2)} = {round(produkt, 2)}\")\n",
    "\n",
    "            #Division\n",
    "            else:\n",
    "                quotient = zahl1 / zahl2\n",
    "                return print(f\"Ergebnis der Division: {round(zahl1, 2)} / {round(zahl2, 2)} = {round(quotient, 2)}\")\n",
    "\n",
    "\n",
    "        except:\n",
    "            return print(\"Nur Zahlen sind erlaubt\")"
   ]
  },
  {
   "cell_type": "code",
   "execution_count": 31,
   "id": "d939f6f4",
   "metadata": {},
   "outputs": [
    {
     "name": "stdout",
     "output_type": "stream",
     "text": [
      "=====================================\n",
      "==          Taschenrechner         ==\n",
      "=====================================\n",
      "\n",
      "Ergebnis der Multiplikation: 23.11 * -7.48 = -172.8\n"
     ]
    }
   ],
   "source": [
    "Taschenrechner()"
   ]
  },
  {
   "cell_type": "code",
   "execution_count": null,
   "id": "c55be04e",
   "metadata": {},
   "outputs": [],
   "source": []
  }
 ],
 "metadata": {
  "kernelspec": {
   "display_name": "UebungLabInf",
   "language": "python",
   "name": "python3"
  },
  "language_info": {
   "codemirror_mode": {
    "name": "ipython",
    "version": 3
   },
   "file_extension": ".py",
   "mimetype": "text/x-python",
   "name": "python",
   "nbconvert_exporter": "python",
   "pygments_lexer": "ipython3",
   "version": "3.12.7"
  }
 },
 "nbformat": 4,
 "nbformat_minor": 5
}
