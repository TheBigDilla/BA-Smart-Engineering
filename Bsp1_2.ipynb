{
 "cells": [
  {
   "cell_type": "markdown",
   "id": "6ed2308c-284d-4987-bb14-6b1a0244c3db",
   "metadata": {},
   "source": [
    "# Taschenrechner"
   ]
  },
  {
   "cell_type": "code",
   "execution_count": 46,
   "id": "2f6ec17c-6c23-4f48-b628-2a69893d72c8",
   "metadata": {},
   "outputs": [
    {
     "name": "stdout",
     "output_type": "stream",
     "text": [
      "=====================================\n",
      "==          Taschenrechner         ==\n",
      "=====================================\n"
     ]
    }
   ],
   "source": [
    "print(\"=====================================\",\"==          Taschenrechner         ==\",\"=====================================\",sep=\"\\n\")"
   ]
  },
  {
   "cell_type": "code",
   "execution_count": 47,
   "id": "a2ae1217-88df-46ed-a72f-f673f627963b",
   "metadata": {},
   "outputs": [],
   "source": [
    "rechenoperation_aktuell = input (\"Welche Rechenoperationen der folgenden soll durchgeführt werden?\\n+, -, *, / \")"
   ]
  },
  {
   "cell_type": "code",
   "execution_count": 48,
   "id": "f1480a86-ba0a-45fc-8992-bbe87682506d",
   "metadata": {},
   "outputs": [
    {
     "name": "stdout",
     "output_type": "stream",
     "text": [
      "Ergebnis der Subtraktion: 125.0\n"
     ]
    }
   ],
   "source": [
    "rechenoperation_gesamt = [\"+\", \"-\", \"*\", \"/\"]\n",
    "\n",
    "try:\n",
    "    index = rechenoperation_gesamt.index(rechenoperation_aktuell)\n",
    "    \n",
    "    zahl1 = input (\"Geben Sie die erste reele Zahl an: \")\n",
    "    zahl2 = input (\"Geben Sie die zweite reele Zahl an: \")\n",
    "\n",
    "    if index == 3 and float(zahl2) == 0:\n",
    "        print(\"Division durch Null, Rechnung kann nicht durchgeführt werden\")\n",
    "\n",
    "    #Addition\n",
    "    elif index == 0:\n",
    "        summe = float(zahl1) + float(zahl2)\n",
    "        print(f\"Ergebnis der Addition: {round(summe, 2)}\")\n",
    "\n",
    "    #Subtraktion\n",
    "    elif index == 1:\n",
    "        differenz = float(zahl1) - float(zahl2)\n",
    "        print(f\"Ergebnis der Subtraktion: {round(differenz, 2)}\")\n",
    "\n",
    "    #Multiplikation\n",
    "    elif index == 2:\n",
    "        produkt = float(zahl1) * float(zahl2)\n",
    "        print(f\"Ergebnis der Multiplikation: {round(produkt, 2)}\")\n",
    "\n",
    "    #Division\n",
    "    else:\n",
    "        quotient = float(zahl1) / float(zahl2)\n",
    "        print(f\"Ergebnis der Division: {round(quotient, 2)}\")\n",
    "\n",
    "\n",
    "except:\n",
    "    print(\"Sie haben keine gültige Rechenoperation eingegeben\")"
   ]
  },
  {
   "cell_type": "code",
   "execution_count": null,
   "id": "a01c204c-47dc-48d4-a146-64d56327c2fc",
   "metadata": {},
   "outputs": [],
   "source": []
  }
 ],
 "metadata": {
  "kernelspec": {
   "display_name": "UebungLabInf",
   "language": "python",
   "name": "python3"
  },
  "language_info": {
   "codemirror_mode": {
    "name": "ipython",
    "version": 3
   },
   "file_extension": ".py",
   "mimetype": "text/x-python",
   "name": "python",
   "nbconvert_exporter": "python",
   "pygments_lexer": "ipython3",
   "version": "3.12.7"
  }
 },
 "nbformat": 4,
 "nbformat_minor": 5
}
