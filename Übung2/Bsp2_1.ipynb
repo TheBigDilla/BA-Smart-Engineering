{
 "cells": [
  {
   "cell_type": "markdown",
   "metadata": {},
   "source": [
    "# Beispiel 2.1: Lotto 6 aus 45"
   ]
  },
  {
   "cell_type": "markdown",
   "metadata": {},
   "source": [
    "# Grundgerüst von Lotto Datei einspielen und weiterentwickeln"
   ]
  },
  {
   "cell_type": "code",
   "execution_count": 47,
   "metadata": {},
   "outputs": [],
   "source": [
    "import random\n",
    "\n",
    "def userZahlen():\n",
    "\n",
    "    userList = []\n",
    "    count = 1\n",
    "\n",
    "    # V1 Zahlen einzeln einlesen\n",
    "    \n",
    "    while len(set(userList)) != 6:          #solange wir nicht 6 eindeutige Zahlen in userList haben, läuft die Schleife\n",
    "        raw = input(f'Zahl{count}: ')        # str -> check ob .numeric\n",
    "\n",
    "        #check ob raw eine zahl ist\n",
    "        if raw.isdigit():\n",
    "            zahl = int(raw)\n",
    "\n",
    "            #check ob zahl innerhalb 1-45 ist\n",
    "            #if zahl >= 1 and zahl <=45:\n",
    "            if zahl >= 1 and zahl <= 45:\n",
    "                \n",
    "                if zahl not in userList:\n",
    "                    userList.append(zahl)\n",
    "                    count += 1\n",
    "\n",
    "                else:\n",
    "                    print('Zahl bereits in Liste!')\n",
    "                    continue\n",
    "\n",
    "            else:\n",
    "                print('Zahl ist außerhalb des Bereiches 1-45!')\n",
    "                continue\n",
    "        else:\n",
    "            print('Es wurde keine natürliche Zahl eingegeben!')\n",
    "            continue #-> wieder an schleifen beginn springen\n",
    "\n",
    "    return set(userList)\n"
   ]
  },
  {
   "cell_type": "code",
   "execution_count": 48,
   "metadata": {},
   "outputs": [],
   "source": [
    "def Ziehung():\n",
    "\n",
    "    while True:\n",
    "        raw = input(\"Anzahl der Ziehungen (min. 10): \")\n",
    "        \n",
    "        if raw.isdigit():\n",
    "            zahl = int(raw)\n",
    "            \n",
    "            if zahl >= 10:\n",
    "                return zahl\n",
    "            \n",
    "            else:\n",
    "                print('Zahl ist kleiner als 10!')\n",
    "                continue\n",
    "            \n",
    "        else:\n",
    "            print('Es wurde keine natürliche Zahl eingegeben!')\n",
    "            continue\n",
    "            "
   ]
  },
  {
   "cell_type": "code",
   "execution_count": 49,
   "metadata": {},
   "outputs": [],
   "source": [
    "def computerZahlen(ziehungen):\n",
    "\n",
    "    #Liste zum Speichern aller Ziehungen\n",
    "    computer_list = []\n",
    "    \n",
    "    #für die Anzahl der ziehungen jeweils 6 zufällige Zahlen generieren\n",
    "    \n",
    "    for i in range(ziehungen):\n",
    "        computer_list.append(random.sample(population=range(1,46), k=6))\n",
    "        #gibt immer 6 zufällige Zahlen zwischen 1-45 zurück\n",
    "    \n",
    "    return computer_list"
   ]
  },
  {
   "cell_type": "code",
   "execution_count": 55,
   "metadata": {},
   "outputs": [
    {
     "data": {
      "text/plain": [
       "{0: 62, 1: 69, 2: 14, 3: 4, 4: 1, 5: 0, 6: 0}"
      ]
     },
     "execution_count": 55,
     "metadata": {},
     "output_type": "execute_result"
    }
   ],
   "source": [
    "def compare(cpuZahlen, meineZahlen):\n",
    "\n",
    "    übereinstimmungen_lang = []\n",
    "    übereinstimmungen_kurz ={}\n",
    "    \n",
    "    for i in cpuZahlen:\n",
    "        übereinstimmungen_lang.append(len(set(i).intersection(meineZahlen)))\n",
    "\n",
    "    for gewinner in range(7):\n",
    "        #zählen wie oft jede zahl in der Liste vorkommt\n",
    "        übereinstimmungen_kurz[gewinner] = übereinstimmungen_lang.count(gewinner)\n",
    "        \n",
    "    \n",
    "    #Gemeinsamkeiten zwischen den beiden Zahlenlisten\n",
    "    return übereinstimmungen_kurz\n",
    "\n",
    "#compare(computerZahlen(Ziehung()), userZahlen())"
   ]
  },
  {
   "cell_type": "code",
   "execution_count": 58,
   "metadata": {},
   "outputs": [
    {
     "name": "stdout",
     "output_type": "stream",
     "text": [
      "Unsere Zahlen: {1, 2, 3, 4, 5, 6}\n",
      "Anzahl der Ziehungen: 150\n",
      "0er Lotto: 60\n",
      "1er Lotto: 62\n",
      "2er Lotto: 24\n",
      "3er Lotto: 4\n",
      "4er Lotto: 0\n",
      "5er Lotto: 0\n",
      "6er Lotto: 0\n"
     ]
    }
   ],
   "source": [
    "draw_count = Ziehung()\n",
    "cpuZahlen = computerZahlen(draw_count)\n",
    "meineZahlen = userZahlen()\n",
    "Ergebnisse = compare(cpuZahlen, meineZahlen)\n",
    "\n",
    "print(f'Unsere Zahlen: {meineZahlen}')\n",
    "print(f\"Anzahl der Ziehungen: {draw_count}\")\n",
    "\n",
    "for lotto in Ergebnisse:\n",
    "    print(f'{lotto}er Lotto: {Ergebnisse[lotto]}')\n",
    "    "
   ]
  },
  {
   "cell_type": "code",
   "execution_count": null,
   "metadata": {},
   "outputs": [],
   "source": []
  }
 ],
 "metadata": {
  "kernelspec": {
   "display_name": "UebungLabInf",
   "language": "python",
   "name": "python3"
  },
  "language_info": {
   "codemirror_mode": {
    "name": "ipython",
    "version": 3
   },
   "file_extension": ".py",
   "mimetype": "text/x-python",
   "name": "python",
   "nbconvert_exporter": "python",
   "pygments_lexer": "ipython3",
   "version": "3.12.7"
  }
 },
 "nbformat": 4,
 "nbformat_minor": 2
}
