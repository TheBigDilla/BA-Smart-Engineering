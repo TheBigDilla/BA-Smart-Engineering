{
 "cells": [
  {
   "cell_type": "markdown",
   "metadata": {},
   "source": [
    "# Rabattrechner"
   ]
  },
  {
   "cell_type": "code",
   "execution_count": 9,
   "metadata": {},
   "outputs": [],
   "source": [
    "#Berechnung des effektiven Rabatts (normaler Rabatt inkl. Skonto)\n",
    "rabatt_2_000 = (1 - 0.15) * (1 - 0.02)\n",
    "rabatt_5_000 = (1 - 0.2) * (1 - 0.03)\n",
    "\n",
    "rabatt_0 = 1 - 0.05\n",
    "rabatt_1_000 = 1 - 0.1"
   ]
  },
  {
   "cell_type": "code",
   "execution_count": 10,
   "metadata": {},
   "outputs": [
    {
     "name": "stdout",
     "output_type": "stream",
     "text": [
      "Der reduzierte Rechnungsbetrag beträgt: 1666.0\n"
     ]
    }
   ],
   "source": [
    "betrag = input(\"Geben Sie Ihre Betragshöhe an (in xxx.xx), um den Rabatt zu berechnen: \")\n",
    "\n",
    "try:\n",
    "    betrag_zahl = float(betrag)\n",
    "    \n",
    "    if betrag_zahl > 4999:\n",
    "        zahlungsbetrag = betrag_zahl * rabatt_5_000\n",
    "        print(f\"Der reduzierte Rechnungsbetrag beträgt: {zahlungsbetrag}\")\n",
    "        \n",
    "    elif betrag_zahl > 1999:\n",
    "        zahlungsbetrag = betrag_zahl * rabatt_2_000\n",
    "        print(f\"Der reduzierte Rechnungsbetrag beträgt: {zahlungsbetrag}\")\n",
    "        \n",
    "    elif betrag_zahl > 999:\n",
    "        zahlungsbetrag = betrag_zahl * rabatt_1_000\n",
    "        print(f\"Der reduzierte Rechnungsbetrag beträgt: {zahlungsbetrag}\")\n",
    "        \n",
    "    else:\n",
    "        zahlungsbetrag = betrag_zahl * rabatt_0\n",
    "        print(f\"Der reduzierte Rechnungsbetrag beträgt: {zahlungsbetrag}\")\n",
    "    \n",
    "except:\n",
    "    print(\"Bitte geben Sie eine Zahl ein\")"
   ]
  }
 ],
 "metadata": {
  "kernelspec": {
   "display_name": "UebungLabInf",
   "language": "python",
   "name": "python3"
  },
  "language_info": {
   "codemirror_mode": {
    "name": "ipython",
    "version": 3
   },
   "file_extension": ".py",
   "mimetype": "text/x-python",
   "name": "python",
   "nbconvert_exporter": "python",
   "pygments_lexer": "ipython3",
   "version": "3.12.7"
  }
 },
 "nbformat": 4,
 "nbformat_minor": 2
}
