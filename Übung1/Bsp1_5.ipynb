{
 "cells": [
  {
   "cell_type": "markdown",
   "id": "6ed2308c-284d-4987-bb14-6b1a0244c3db",
   "metadata": {},
   "source": [
    "# Taschenrechner"
   ]
  },
  {
   "cell_type": "code",
   "execution_count": 5,
   "id": "d3cdfd47",
   "metadata": {},
   "outputs": [],
   "source": [
    "def Taschenrechner():\n",
    "    \n",
    "    print(\"=====================================\",\"==          Taschenrechner         ==\",\"=====================================\",\"\",sep=\"\\n\")\n",
    "    \n",
    "    \n",
    "    while True:\n",
    "        \n",
    "        rechenoperation_gesamt = [\"+\", \"-\", \"*\", \"/\"]\n",
    "        rechenoperation_aktuell = input (\"Welche Rechenoperationen der folgenden soll durchgeführt werden?\\n+, -, *, / \\n \\n Drücken Sie q oder Q wenn Sie den Taschenrechner beenden wollen\")\n",
    "\n",
    "        if rechenoperation_aktuell.lower() == \"q\":\n",
    "            return print(\"Taschenrechner wird beendet\")\n",
    "\n",
    "        if rechenoperation_aktuell not in rechenoperation_gesamt:\n",
    "            print(\"Sie haben keine gültige Rechenoperation eingegeben\\n\")\n",
    "            \n",
    "        else:\n",
    "            \n",
    "            try:\n",
    "                index = rechenoperation_gesamt.index(rechenoperation_aktuell)\n",
    "            \n",
    "                zahl1 = float (input (\"Geben Sie die erste reele Zahl an: \"))                  \n",
    "                zahl2 = float (input (\"Geben Sie die zweite reele Zahl an: \"))\n",
    "               \n",
    "                \n",
    "                if index == 3 and float(zahl2) == 0:\n",
    "                    print(\"Division durch Null, Rechnung kann nicht durchgeführt werden\\n\")\n",
    "\n",
    "                #Addition\n",
    "                elif index == 0:\n",
    "                    summe = zahl1 + zahl2\n",
    "                    print(f\"Ergebnis der Addition: {round(zahl1, 2)} + {round(zahl2, 2)} = {round(summe, 2)}\\n\")\n",
    "\n",
    "                #Subtraktion\n",
    "                elif index == 1:\n",
    "                    differenz = zahl1 - zahl2\n",
    "                    print(f\"Ergebnis der Subtraktion: {round(zahl1, 2)} - {round(zahl2, 2)} = {round(differenz, 2)}\\n\")\n",
    "\n",
    "                #Multiplikation\n",
    "                elif index == 2:\n",
    "                    produkt = zahl1 * zahl2\n",
    "                    print(f\"Ergebnis der Multiplikation: {round(zahl1, 2)} * {round(zahl2, 2)} = {round(produkt, 2)}\\n\")\n",
    "\n",
    "                #Division\n",
    "                else:\n",
    "                    quotient = zahl1 / zahl2\n",
    "                    print(f\"Ergebnis der Division: {round(zahl1, 2)} / {round(zahl2, 2)} = {round(quotient, 2)}\\n\")\n",
    "\n",
    "\n",
    "            except:\n",
    "                print(\"Nur Zahlen sind erlaubt\\n\")"
   ]
  },
  {
   "cell_type": "code",
   "execution_count": 6,
   "id": "d939f6f4",
   "metadata": {},
   "outputs": [
    {
     "name": "stdout",
     "output_type": "stream",
     "text": [
      "=====================================\n",
      "==          Taschenrechner         ==\n",
      "=====================================\n",
      "\n",
      "Ergebnis der Addition: 1.0 + 123.22 = 124.22\n",
      "Taschenrechner wird beendet\n"
     ]
    }
   ],
   "source": [
    "Taschenrechner()"
   ]
  }
 ],
 "metadata": {
  "kernelspec": {
   "display_name": "UebungLabInf",
   "language": "python",
   "name": "python3"
  },
  "language_info": {
   "codemirror_mode": {
    "name": "ipython",
    "version": 3
   },
   "file_extension": ".py",
   "mimetype": "text/x-python",
   "name": "python",
   "nbconvert_exporter": "python",
   "pygments_lexer": "ipython3",
   "version": "3.12.7"
  }
 },
 "nbformat": 4,
 "nbformat_minor": 5
}
