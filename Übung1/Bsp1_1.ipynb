{
 "cells": [
  {
   "cell_type": "markdown",
   "id": "6ed2308c-284d-4987-bb14-6b1a0244c3db",
   "metadata": {},
   "source": [
    "# Taschenrechner"
   ]
  },
  {
   "cell_type": "code",
   "execution_count": 1,
   "id": "2f6ec17c-6c23-4f48-b628-2a69893d72c8",
   "metadata": {},
   "outputs": [
    {
     "name": "stdout",
     "output_type": "stream",
     "text": [
      "=====================================\n",
      "==          Taschenrechner         ==\n",
      "=====================================\n"
     ]
    }
   ],
   "source": [
    "print(\"=====================================\",\"==          Taschenrechner         ==\",\"=====================================\",sep=\"\\n\")"
   ]
  },
  {
   "cell_type": "code",
   "execution_count": 2,
   "id": "b2acce3f-2661-4379-80bf-8be527ed24d2",
   "metadata": {},
   "outputs": [],
   "source": [
    "zahl1 = input (\"Geben Sie die erste reele Zahl an: \")\n",
    "zahl2 = input (\"Geben Sie die zweite reele Zahl an: \")"
   ]
  },
  {
   "cell_type": "code",
   "execution_count": 3,
   "id": "15674774-28f6-42d9-8168-0170c38f6c34",
   "metadata": {},
   "outputs": [],
   "source": [
    "Summe = float(zahl1) + float(zahl2)"
   ]
  },
  {
   "cell_type": "code",
   "execution_count": 4,
   "id": "96937cc3-fc07-4fab-b2ae-43963da663ef",
   "metadata": {},
   "outputs": [
    {
     "name": "stdout",
     "output_type": "stream",
     "text": [
      "Ergebnis der Addition: -118.77\n"
     ]
    }
   ],
   "source": [
    "print(f\"Ergebnis der Addition: {round(Summe, 2)}\")"
   ]
  },
  {
   "cell_type": "code",
   "execution_count": null,
   "id": "a2ae1217-88df-46ed-a72f-f673f627963b",
   "metadata": {},
   "outputs": [],
   "source": []
  },
  {
   "cell_type": "code",
   "execution_count": null,
   "id": "f1480a86-ba0a-45fc-8992-bbe87682506d",
   "metadata": {},
   "outputs": [],
   "source": []
  }
 ],
 "metadata": {
  "kernelspec": {
   "display_name": "UebungLabInf",
   "language": "python",
   "name": "python3"
  },
  "language_info": {
   "codemirror_mode": {
    "name": "ipython",
    "version": 3
   },
   "file_extension": ".py",
   "mimetype": "text/x-python",
   "name": "python",
   "nbconvert_exporter": "python",
   "pygments_lexer": "ipython3",
   "version": "3.12.7"
  }
 },
 "nbformat": 4,
 "nbformat_minor": 5
}
